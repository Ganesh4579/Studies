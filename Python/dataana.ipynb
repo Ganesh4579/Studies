{
 "metadata": {
  "language_info": {
   "codemirror_mode": {
    "name": "ipython",
    "version": 3
   },
   "file_extension": ".py",
   "mimetype": "text/x-python",
   "name": "python",
   "nbconvert_exporter": "python",
   "pygments_lexer": "ipython3",
   "version": "3.8.6-final"
  },
  "orig_nbformat": 2,
  "kernelspec": {
   "name": "python3",
   "display_name": "Python 3.8.6 64-bit",
   "metadata": {
    "interpreter": {
     "hash": "31f2aee4e71d21fbe5cf8b01ff0e069b9275f58929596ceb00d14d90e3e16cd6"
    }
   }
  }
 },
 "nbformat": 4,
 "nbformat_minor": 2,
 "cells": [
  {
   "cell_type": "code",
   "execution_count": 1,
   "metadata": {},
   "outputs": [
    {
     "output_type": "stream",
     "name": "stdout",
     "text": [
      "1     100\n2     101\n3     102\n4     103\n5     104\n6     105\n7     106\n8     107\n9     108\n10    109\nName: roll_no, dtype: int64\n"
     ]
    }
   ],
   "source": [
    "import pandas as pd\n",
    "import numpy as np\n",
    "\n",
    "a=np.arange(100,110)\n",
    "ds=pd.Series(a,name='roll_no',index=range(1,10+1))\n",
    "\n",
    "print(ds)"
   ]
  },
  {
   "cell_type": "code",
   "execution_count": 2,
   "metadata": {},
   "outputs": [
    {
     "output_type": "stream",
     "name": "stdout",
     "text": [
      "   tam  eng  mat  sci\n0   98   99   94   99\n1   92   91   76   69\n2   33   99   99   59\n3   36   97   94   91\n4   51   80   60   40\n5   88   47   38   47\n6   30   73   71   44\n7   74   74   85   34\n8   94   57   80   50\n9   88   75   65   39\n"
     ]
    }
   ],
   "source": [
    "c=['tam','eng','mat','sci']\n",
    "import pandas as pd\n",
    "\n",
    "s=pd.DataFrame(np.random.randint(30,100,size=(10,4)),columns=c)\n",
    "print(s) "
   ]
  },
  {
   "cell_type": "code",
   "execution_count": 3,
   "metadata": {},
   "outputs": [
    {
     "output_type": "execute_result",
     "data": {
      "text/plain": [
       "         tam  eng  mat  sci\n",
       "roll_no                    \n",
       "100       98   99   94   99\n",
       "101       92   91   76   69\n",
       "102       33   99   99   59\n",
       "103       36   97   94   91\n",
       "104       51   80   60   40\n",
       "105       88   47   38   47\n",
       "106       30   73   71   44\n",
       "107       74   74   85   34\n",
       "108       94   57   80   50\n",
       "109       88   75   65   39"
      ],
      "text/html": "<div>\n<style scoped>\n    .dataframe tbody tr th:only-of-type {\n        vertical-align: middle;\n    }\n\n    .dataframe tbody tr th {\n        vertical-align: top;\n    }\n\n    .dataframe thead th {\n        text-align: right;\n    }\n</style>\n<table border=\"1\" class=\"dataframe\">\n  <thead>\n    <tr style=\"text-align: right;\">\n      <th></th>\n      <th>tam</th>\n      <th>eng</th>\n      <th>mat</th>\n      <th>sci</th>\n    </tr>\n    <tr>\n      <th>roll_no</th>\n      <th></th>\n      <th></th>\n      <th></th>\n      <th></th>\n    </tr>\n  </thead>\n  <tbody>\n    <tr>\n      <th>100</th>\n      <td>98</td>\n      <td>99</td>\n      <td>94</td>\n      <td>99</td>\n    </tr>\n    <tr>\n      <th>101</th>\n      <td>92</td>\n      <td>91</td>\n      <td>76</td>\n      <td>69</td>\n    </tr>\n    <tr>\n      <th>102</th>\n      <td>33</td>\n      <td>99</td>\n      <td>99</td>\n      <td>59</td>\n    </tr>\n    <tr>\n      <th>103</th>\n      <td>36</td>\n      <td>97</td>\n      <td>94</td>\n      <td>91</td>\n    </tr>\n    <tr>\n      <th>104</th>\n      <td>51</td>\n      <td>80</td>\n      <td>60</td>\n      <td>40</td>\n    </tr>\n    <tr>\n      <th>105</th>\n      <td>88</td>\n      <td>47</td>\n      <td>38</td>\n      <td>47</td>\n    </tr>\n    <tr>\n      <th>106</th>\n      <td>30</td>\n      <td>73</td>\n      <td>71</td>\n      <td>44</td>\n    </tr>\n    <tr>\n      <th>107</th>\n      <td>74</td>\n      <td>74</td>\n      <td>85</td>\n      <td>34</td>\n    </tr>\n    <tr>\n      <th>108</th>\n      <td>94</td>\n      <td>57</td>\n      <td>80</td>\n      <td>50</td>\n    </tr>\n    <tr>\n      <th>109</th>\n      <td>88</td>\n      <td>75</td>\n      <td>65</td>\n      <td>39</td>\n    </tr>\n  </tbody>\n</table>\n</div>"
     },
     "metadata": {},
     "execution_count": 3
    }
   ],
   "source": [
    "s.index=ds\n",
    "#s[ds.name]=ds.values\n",
    "#s.index=s[ds.name]\n",
    "s"
   ]
  },
  {
   "cell_type": "code",
   "execution_count": 4,
   "metadata": {},
   "outputs": [],
   "source": [
    "d=np.random.randint(30,100,size=4)\n",
    "dd=zip(c,d)\n",
    "dd=dict(dd)\n",
    "#s=s.append(d,ignore_index=True)"
   ]
  },
  {
   "cell_type": "code",
   "execution_count": 5,
   "metadata": {},
   "outputs": [
    {
     "output_type": "execute_result",
     "data": {
      "text/plain": [
       "         tam  eng\n",
       "roll_no          \n",
       "100       98   99\n",
       "101       92   91\n",
       "104       51   80\n",
       "105       88   47\n",
       "107       74   74\n",
       "108       94   57\n",
       "109       88   75"
      ],
      "text/html": "<div>\n<style scoped>\n    .dataframe tbody tr th:only-of-type {\n        vertical-align: middle;\n    }\n\n    .dataframe tbody tr th {\n        vertical-align: top;\n    }\n\n    .dataframe thead th {\n        text-align: right;\n    }\n</style>\n<table border=\"1\" class=\"dataframe\">\n  <thead>\n    <tr style=\"text-align: right;\">\n      <th></th>\n      <th>tam</th>\n      <th>eng</th>\n    </tr>\n    <tr>\n      <th>roll_no</th>\n      <th></th>\n      <th></th>\n    </tr>\n  </thead>\n  <tbody>\n    <tr>\n      <th>100</th>\n      <td>98</td>\n      <td>99</td>\n    </tr>\n    <tr>\n      <th>101</th>\n      <td>92</td>\n      <td>91</td>\n    </tr>\n    <tr>\n      <th>104</th>\n      <td>51</td>\n      <td>80</td>\n    </tr>\n    <tr>\n      <th>105</th>\n      <td>88</td>\n      <td>47</td>\n    </tr>\n    <tr>\n      <th>107</th>\n      <td>74</td>\n      <td>74</td>\n    </tr>\n    <tr>\n      <th>108</th>\n      <td>94</td>\n      <td>57</td>\n    </tr>\n    <tr>\n      <th>109</th>\n      <td>88</td>\n      <td>75</td>\n    </tr>\n  </tbody>\n</table>\n</div>"
     },
     "metadata": {},
     "execution_count": 5
    }
   ],
   "source": [
    "s.loc[s['tam']>50,('tam','eng')]"
   ]
  },
  {
   "cell_type": "code",
   "execution_count": 7,
   "metadata": {},
   "outputs": [
    {
     "output_type": "execute_result",
     "data": {
      "text/plain": [
       "             tam        eng        mat        sci\n",
       "count  10.000000  10.000000  10.000000  10.000000\n",
       "mean   68.400000  79.200000  76.200000  57.200000\n",
       "std    27.825648  17.806366  18.617793  22.429148\n",
       "min    30.000000  47.000000  38.000000  34.000000\n",
       "25%    39.750000  73.250000  66.500000  41.000000\n",
       "50%    81.000000  77.500000  78.000000  48.500000\n",
       "75%    91.000000  95.500000  91.750000  66.500000\n",
       "max    98.000000  99.000000  99.000000  99.000000"
      ],
      "text/html": "<div>\n<style scoped>\n    .dataframe tbody tr th:only-of-type {\n        vertical-align: middle;\n    }\n\n    .dataframe tbody tr th {\n        vertical-align: top;\n    }\n\n    .dataframe thead th {\n        text-align: right;\n    }\n</style>\n<table border=\"1\" class=\"dataframe\">\n  <thead>\n    <tr style=\"text-align: right;\">\n      <th></th>\n      <th>tam</th>\n      <th>eng</th>\n      <th>mat</th>\n      <th>sci</th>\n    </tr>\n  </thead>\n  <tbody>\n    <tr>\n      <th>count</th>\n      <td>10.000000</td>\n      <td>10.000000</td>\n      <td>10.000000</td>\n      <td>10.000000</td>\n    </tr>\n    <tr>\n      <th>mean</th>\n      <td>68.400000</td>\n      <td>79.200000</td>\n      <td>76.200000</td>\n      <td>57.200000</td>\n    </tr>\n    <tr>\n      <th>std</th>\n      <td>27.825648</td>\n      <td>17.806366</td>\n      <td>18.617793</td>\n      <td>22.429148</td>\n    </tr>\n    <tr>\n      <th>min</th>\n      <td>30.000000</td>\n      <td>47.000000</td>\n      <td>38.000000</td>\n      <td>34.000000</td>\n    </tr>\n    <tr>\n      <th>25%</th>\n      <td>39.750000</td>\n      <td>73.250000</td>\n      <td>66.500000</td>\n      <td>41.000000</td>\n    </tr>\n    <tr>\n      <th>50%</th>\n      <td>81.000000</td>\n      <td>77.500000</td>\n      <td>78.000000</td>\n      <td>48.500000</td>\n    </tr>\n    <tr>\n      <th>75%</th>\n      <td>91.000000</td>\n      <td>95.500000</td>\n      <td>91.750000</td>\n      <td>66.500000</td>\n    </tr>\n    <tr>\n      <th>max</th>\n      <td>98.000000</td>\n      <td>99.000000</td>\n      <td>99.000000</td>\n      <td>99.000000</td>\n    </tr>\n  </tbody>\n</table>\n</div>"
     },
     "metadata": {},
     "execution_count": 7
    }
   ],
   "source": [
    "s.describe()"
   ]
  },
  {
   "cell_type": "code",
   "execution_count": null,
   "metadata": {},
   "outputs": [],
   "source": []
  }
 ]
}